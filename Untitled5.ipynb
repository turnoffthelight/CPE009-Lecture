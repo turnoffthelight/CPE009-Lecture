{
 "cells": [
  {
   "cell_type": "markdown",
   "metadata": {},
   "source": [
    "# Activity 3 - Control Structure"
   ]
  },
  {
   "cell_type": "markdown",
   "metadata": {},
   "source": [
    "1. Use two variables a and b and assign the following values to the two variables then display the output at each set of values as specified in the table below.\n",
    "\n",
    "\n",
    "\n",
    "\n",
    "\n",
    "\n",
    "\n"
   ]
  },
  {
   "cell_type": "markdown",
   "metadata": {},
   "source": [
    "1,2"
   ]
  },
  {
   "cell_type": "code",
   "execution_count": 3,
   "metadata": {},
   "outputs": [
    {
     "name": "stdout",
     "output_type": "stream",
     "text": [
      "False\n",
      "False\n",
      "False\n",
      "True\n",
      "True\n",
      "True\n"
     ]
    }
   ],
   "source": [
    "a,b = 1,2\n",
    "print (a==b)\n",
    "print (a>b)\n",
    "print (a>=b)\n",
    "print (a<b)\n",
    "print (a<=b)\n",
    "print (a!=b)"
   ]
  },
  {
   "cell_type": "markdown",
   "metadata": {},
   "source": [
    "5,0"
   ]
  },
  {
   "cell_type": "code",
   "execution_count": 4,
   "metadata": {},
   "outputs": [
    {
     "name": "stdout",
     "output_type": "stream",
     "text": [
      "False\n",
      "True\n",
      "True\n",
      "False\n",
      "False\n",
      "True\n"
     ]
    }
   ],
   "source": [
    "a,b = 5,0\n",
    "print (a==b)\n",
    "print (a>b)\n",
    "print (a>=b)\n",
    "print (a<b)\n",
    "print (a<=b)\n",
    "print (a!=b)"
   ]
  },
  {
   "cell_type": "markdown",
   "metadata": {},
   "source": [
    "-1,-1"
   ]
  },
  {
   "cell_type": "code",
   "execution_count": 5,
   "metadata": {},
   "outputs": [
    {
     "name": "stdout",
     "output_type": "stream",
     "text": [
      "True\n",
      "False\n",
      "True\n",
      "False\n",
      "True\n",
      "False\n"
     ]
    }
   ],
   "source": [
    "a,b = -1,-1\n",
    "print (a==b)\n",
    "print (a>b)\n",
    "print (a>=b)\n",
    "print (a<b)\n",
    "print (a<=b)\n",
    "print (a!=b)"
   ]
  },
  {
   "cell_type": "markdown",
   "metadata": {},
   "source": [
    "2,2.0"
   ]
  },
  {
   "cell_type": "code",
   "execution_count": 4,
   "metadata": {},
   "outputs": [
    {
     "name": "stdout",
     "output_type": "stream",
     "text": [
      "True\n",
      "False\n",
      "True\n",
      "False\n",
      "True\n",
      "False\n"
     ]
    }
   ],
   "source": [
    "a,b = 2,2.0\n",
    "print (a==b)\n",
    "print (a>b)\n",
    "print (a>=b)\n",
    "print (a<b)\n",
    "print (a<=b)\n",
    "print (a!=b)"
   ]
  },
  {
   "cell_type": "markdown",
   "metadata": {},
   "source": [
    "\"same\",'same'"
   ]
  },
  {
   "cell_type": "code",
   "execution_count": 7,
   "metadata": {},
   "outputs": [
    {
     "name": "stdout",
     "output_type": "stream",
     "text": [
      "True\n",
      "False\n",
      "True\n",
      "False\n",
      "True\n",
      "False\n"
     ]
    }
   ],
   "source": [
    "a,b = \"same\",'same'\n",
    "print (a==b)\n",
    "print (a>b)\n",
    "print (a>=b)\n",
    "print (a<b)\n",
    "print (a<=b)\n",
    "print (a!=b)"
   ]
  },
  {
   "cell_type": "markdown",
   "metadata": {},
   "source": [
    "(1,2,3),(1,2,4)"
   ]
  },
  {
   "cell_type": "code",
   "execution_count": 8,
   "metadata": {},
   "outputs": [
    {
     "name": "stdout",
     "output_type": "stream",
     "text": [
      "False\n",
      "False\n",
      "False\n",
      "True\n",
      "True\n",
      "True\n"
     ]
    }
   ],
   "source": [
    "a,b = (1,2,3),(1,2,4)\n",
    "print (a==b)\n",
    "print (a>b)\n",
    "print (a>=b)\n",
    "print (a<b)\n",
    "print (a<=b)\n",
    "print (a!=b)"
   ]
  },
  {
   "cell_type": "markdown",
   "metadata": {},
   "source": [
    "2. Use three variables a=1, b=2 and c=3 and then run the following print() functions below.\n",
    "a. print(a<b and c==3)\n",
    "b. print(a+b==2 and c<=3)\n",
    "c. print(a<b or c==3)\n",
    "d. print(a+b==2 or c<=3)"
   ]
  },
  {
   "cell_type": "code",
   "execution_count": 9,
   "metadata": {},
   "outputs": [
    {
     "name": "stdout",
     "output_type": "stream",
     "text": [
      "True\n",
      "False\n",
      "True\n",
      "True\n"
     ]
    }
   ],
   "source": [
    "a,b,c = 1,2,3\n",
    "print(a<b and c==3)\n",
    "print(a+b==2 and c<=3)\n",
    "print(a<b or c==3)\n",
    "print(a+b==2 or c<=3)"
   ]
  },
  {
   "cell_type": "markdown",
   "metadata": {},
   "source": [
    "3. Write your observations per condition and experiment with the operators by changing the values of a, b, and/or c."
   ]
  },
  {
   "cell_type": "code",
   "execution_count": 2,
   "metadata": {},
   "outputs": [
    {
     "name": "stdout",
     "output_type": "stream",
     "text": [
      "False\n",
      "False\n",
      "True\n",
      "True\n"
     ]
    }
   ],
   "source": [
    "a,b,c = 1,2,3\n",
    "print(a<b and c==2)\n",
    "print(a+b==1 and c<=2)\n",
    "print(a<b or c==2)\n",
    "print(a+b==3 or c<=2)"
   ]
  },
  {
   "cell_type": "markdown",
   "metadata": {},
   "source": [
    "logical operators can be used in form of word and using double qoutation or single qoutation does not change the string's value. In addition, the excess decimal of zero in float was not compared to the value of integer as long as the float's whole number value equals the integer"
   ]
  },
  {
   "cell_type": "markdown",
   "metadata": {},
   "source": [
    "# CONDITIONAL STATEMENTS"
   ]
  },
  {
   "cell_type": "markdown",
   "metadata": {},
   "source": [
    "Suppose that we have a sensor that reads the temperature inside a large machine. We want to create a program that will print a message on the control screen to inform the operator of the status of the machine."
   ]
  },
  {
   "cell_type": "markdown",
   "metadata": {},
   "source": [
    "# Scenario 1"
   ]
  },
  {
   "cell_type": "markdown",
   "metadata": {},
   "source": [
    "If the temperature is greater than 100°C display the status code 10 and the message:\n",
    "“Too hot – turn off the machine”"
   ]
  },
  {
   "cell_type": "code",
   "execution_count": 11,
   "metadata": {},
   "outputs": [
    {
     "name": "stdout",
     "output_type": "stream",
     "text": [
      "Input Temperature: 100.25\n",
      "Status Code: 10 Too hot - turn off the machine.\n"
     ]
    }
   ],
   "source": [
    "statusCode = 0\n",
    "machineTemp = 0\n",
    "\n",
    "machineTemp = float (input(\"Input Temperature: \"))\n",
    "\n",
    "if machineTemp > 100:\n",
    "    statusCode = 10\n",
    "    print (f\"Status Code: {statusCode} Too hot - turn off the machine.\")"
   ]
  },
  {
   "cell_type": "markdown",
   "metadata": {},
   "source": [
    "# Scenario 2:"
   ]
  },
  {
   "cell_type": "markdown",
   "metadata": {},
   "source": [
    "a. If the temperature is greater than 100°C display the status code 10 and the message\n",
    "“Too hot – turn off the machine”\n",
    "b. If the temperature is not greater than 100°C display the status code 2 and the message\n",
    "“Normal reading – No action required”"
   ]
  },
  {
   "cell_type": "code",
   "execution_count": 13,
   "metadata": {},
   "outputs": [
    {
     "name": "stdout",
     "output_type": "stream",
     "text": [
      "Input Temperature: 34\n",
      "Status Code: 2 Normal reading - No action required.\n"
     ]
    }
   ],
   "source": [
    "statusCode = 0\n",
    "machineTemp = 0\n",
    "\n",
    "machineTemp = float (input(\"Input Temperature: \"))\n",
    "\n",
    "if machineTemp > 100:\n",
    "    statusCode = 10\n",
    "    print (f\"Status Code: {statusCode} Too hot - turn off the machine.\")\n",
    "else:\n",
    "    statusCode = 2\n",
    "    print (f\"Status Code: {statusCode} Normal reading - No action required.\")"
   ]
  },
  {
   "cell_type": "markdown",
   "metadata": {},
   "source": [
    "# Scenaio 3:"
   ]
  },
  {
   "cell_type": "markdown",
   "metadata": {},
   "source": [
    "a. If the temperature is greater than 100°C, display the status code 10 and the message\n",
    "“Too hot – turn off the machine”\n",
    "b. If the temperature is not greater than 100°C, display the status code 2 and the message\n",
    "“Normal reading – No action required”\n",
    "c. If the temperature is in the range of 90°C and 100°C, display the status code 5 and the message\n",
    "“Critical temperature – Monitor the machine, do not leave the area”"
   ]
  },
  {
   "cell_type": "code",
   "execution_count": 23,
   "metadata": {},
   "outputs": [
    {
     "name": "stdout",
     "output_type": "stream",
     "text": [
      "Input Temperature: 1006\n",
      "Status Code: 10 Too hot - turn off the machine.\n"
     ]
    }
   ],
   "source": [
    "statusCode = 0\n",
    "machineTemp = 0\n",
    "\n",
    "machineTemp = float (input(\"Input Temperature: \"))\n",
    "\n",
    "if machineTemp > 100:\n",
    "    statusCode = 10\n",
    "    print (f\"Status Code: {statusCode} Too hot - turn off the machine.\")\n",
    "elif (machineTemp >= 90) & (machineTemp <=100):\n",
    "    statusCode = 5\n",
    "    print (f\"Status Code: {statusCode} Criticial Temperature - Monitor the machine, do not leave the area.\")\n",
    "else:\n",
    "    statusCode = 2\n",
    "    print (f\"Status Code: {statusCode} Normal reading - No action required.\")\n"
   ]
  },
  {
   "cell_type": "markdown",
   "metadata": {},
   "source": [
    "I've observed that variables can be encoded inside the string statement and be printed using curly braces and this will be a big help for the future codes for it will simplify the sentence structure since it's already inside the string."
   ]
  },
  {
   "cell_type": "markdown",
   "metadata": {},
   "source": [
    "# ITERATIVE STATEMENTS"
   ]
  },
  {
   "cell_type": "markdown",
   "metadata": {},
   "source": [
    "Suppose that you are developing a program for a security door that implements a lock using an RFID card system. A Card will be tapped and scanned at the door and only registered cards will be able to unlock the door. We want to create a program that will display a message on the small monitor placed above the RFID scanner then unlock the door based on the data read from the RFID card."
   ]
  },
  {
   "cell_type": "markdown",
   "metadata": {},
   "source": [
    "# Scenario 1:"
   ]
  },
  {
   "cell_type": "markdown",
   "metadata": {},
   "source": [
    " The program should only continuously accept and read cards. As of now there is only one registered card. The program should not terminate unless a special card with the code “sh00” is read by the system."
   ]
  },
  {
   "cell_type": "code",
   "execution_count": 3,
   "metadata": {},
   "outputs": [
    {
     "name": "stdout",
     "output_type": "stream",
     "text": [
      "Enter registered Code: hello\n",
      "Enter the scanned code: hello\n",
      "Authorized. Opening door.\n",
      "Enter the scanned code: hi\n",
      "Unauthorized.\n",
      "Enter the scanned code: sh00\n",
      "Shutdown card invoked.\n"
     ]
    }
   ],
   "source": [
    "scannedCode, registeredCode = \"\",\"\"\n",
    "\n",
    "registeredCode = input (\"Enter registered Code: \")\n",
    "\n",
    "while scannedCode != \"sh00\":\n",
    "    scannedCode = input (\"Enter the scanned code: \")\n",
    "    if scannedCode == registeredCode:\n",
    "        print (\"Authorized. Opening door.\")\n",
    "    elif scannedCode == \"sh00\":\n",
    "        print (\"Shutdown card invoked.\")\n",
    "    else:\n",
    "        print (\"Unauthorized.\")\n",
    "    "
   ]
  },
  {
   "cell_type": "markdown",
   "metadata": {},
   "source": [
    "# Scenario 2:"
   ]
  },
  {
   "cell_type": "markdown",
   "metadata": {},
   "source": [
    "The program should only repeatedly accept invalid cards up to three times. Afterwards it should shutdown automatically and be restarted by Authorized personnel. As of now there is only one registered card. The program should still terminate using special card with the code “sh00”."
   ]
  },
  {
   "cell_type": "code",
   "execution_count": 2,
   "metadata": {},
   "outputs": [
    {
     "name": "stdout",
     "output_type": "stream",
     "text": [
      "Enter registered Code: hello\n",
      "Enter the scanned code: hello\n",
      "Authorized. Opening door.\n",
      "Enter the scanned code: hi\n",
      "Unauthorized.\n",
      "Enter the scanned code: hi\n",
      "Unauthorized.\n",
      "Enter the scanned code: ho\n",
      "Unauthorized.\n",
      "Door indefinitely sealed. Call an Authorized Personnel\n"
     ]
    }
   ],
   "source": [
    "scannedCode, registeredCode = \"\",\"\"\n",
    "counter = 3\n",
    "registeredCode = input (\"Enter registered Code: \")\n",
    "\n",
    "while scannedCode != \"sh00\":\n",
    "    scannedCode = input (\"Enter the scanned code: \")\n",
    "    if scannedCode == registeredCode:\n",
    "        print (\"Authorized. Opening door.\")\n",
    "    elif scannedCode == \"sh00\":\n",
    "        print (\"Shutdown card invoked.\")\n",
    "    else:\n",
    "        print (\"Unauthorized.\")\n",
    "        counter -= 1\n",
    "        if counter == 0:\n",
    "            print (\"Door indefinitely sealed. Call an Authorized Personnel\")\n",
    "            break"
   ]
  },
  {
   "cell_type": "markdown",
   "metadata": {},
   "source": [
    "# Scenario 3:"
   ]
  },
  {
   "cell_type": "markdown",
   "metadata": {},
   "source": [
    "The program should only repeatedly accept invalid cards up to three times. Afterwards it should shutdown automatically and be restarted by Authorized personnel. As of now there are three registered cards. The program does not ask anymore the registered codes but instead the codes are initialized in the program. The program should still terminate using special card with the code “sh00”."
   ]
  },
  {
   "cell_type": "code",
   "execution_count": 1,
   "metadata": {},
   "outputs": [
    {
     "name": "stdout",
     "output_type": "stream",
     "text": [
      "Enter the scanned code: code1\n",
      "Authorized. Opening door.\n",
      "Enter the scanned code: code2\n",
      "Authorized. Opening door.\n",
      "Enter the scanned code: code3\n",
      "Authorized. Opening door.\n",
      "Enter the scanned code: 1\n",
      "Unauthorized.\n",
      "Enter the scanned code: 2\n",
      "Unauthorized.\n",
      "Enter the scanned code: 3\n",
      "Unauthorized.\n",
      "Door indefinitely sealed. Call an Authorized Personnel\n"
     ]
    }
   ],
   "source": [
    "scannedCode = \"\"\n",
    "registeredCodes = [\"code1\", \"code2\", \"code3\"]\n",
    "counter = 3\n",
    "\n",
    "while scannedCode != \"sh00\":\n",
    "    scannedCode = input (\"Enter the scanned code: \")\n",
    "    if scannedCode in registeredCodes:\n",
    "        print (\"Authorized. Opening door.\")\n",
    "    elif scannedCode == \"sh00\":\n",
    "        print (\"Shutdown card invoked.\")\n",
    "    else:\n",
    "        print (\"Unauthorized.\")\n",
    "        counter -= 1\n",
    "        if counter == 0:\n",
    "            print (\"Door indefinitely sealed. Call an Authorized Personnel\")\n",
    "            break"
   ]
  },
  {
   "cell_type": "markdown",
   "metadata": {},
   "source": [
    "I've observed that in order to compare a value in an array, the syntax \"in\" can be used to call out and scan the values in the array of variable unlike in C that to compare the values inside an array, a loop must be coded."
   ]
  }
 ],
 "metadata": {
  "kernelspec": {
   "display_name": "Python 3",
   "language": "python",
   "name": "python3"
  },
  "language_info": {
   "codemirror_mode": {
    "name": "ipython",
    "version": 3
   },
   "file_extension": ".py",
   "mimetype": "text/x-python",
   "name": "python",
   "nbconvert_exporter": "python",
   "pygments_lexer": "ipython3",
   "version": "3.7.3"
  }
 },
 "nbformat": 4,
 "nbformat_minor": 2
}
