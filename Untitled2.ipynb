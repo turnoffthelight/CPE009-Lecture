{
 "cells": [
  {
   "cell_type": "markdown",
   "metadata": {},
   "source": [
    "# SO_Laboratory Activity 2"
   ]
  },
  {
   "cell_type": "markdown",
   "metadata": {},
   "source": [
    "SUPPLEMENTARY ACTIVITY:"
   ]
  },
  {
   "cell_type": "markdown",
   "metadata": {},
   "source": [
    "1. Write the Python equivalent code of the following C code:\n",
    "int main(){\n",
    "float base = 0, height = 0, area = 0;\n",
    "printf(“Enter the base of the triangle: “);\n",
    "scanf(“%f”, &amp;base);\n",
    "printf(“Enter the height of the triangle: “);\n",
    "scanf(“%f”, &amp;height);\n",
    "area = (1/2)*base*height;\n",
    "print(“The area of the triangle is %f”, area);\n",
    "}"
   ]
  },
  {
   "cell_type": "code",
   "execution_count": 2,
   "metadata": {},
   "outputs": [
    {
     "name": "stdout",
     "output_type": "stream",
     "text": [
      "Enter the base of the triangle: 23\n",
      "Enter the height og the triangle: 12\n",
      "The area of the triangle is  138.0\n"
     ]
    }
   ],
   "source": [
    "base = int (input(\"Enter the base of the triangle: \"))\n",
    "height = int (input(\"Enter the height of the triangle: \"))\n",
    "area = (base * height) / 2\n",
    "print (\"The area of the triangle is \", area)"
   ]
  },
  {
   "cell_type": "markdown",
   "metadata": {},
   "source": [
    "2. Write a program that would convert Celsius to Fahrenheit given the formula: F = (C × 9/5) + 32\n",
    "Example of conversion:\n",
    "\n",
    "0°C = 32 °F\n",
    "-20°C = -4 °F"
   ]
  },
  {
   "cell_type": "code",
   "execution_count": 3,
   "metadata": {},
   "outputs": [
    {
     "name": "stdout",
     "output_type": "stream",
     "text": [
      "Enter a number: 20\n",
      "20.0  C =  68.0  F\n"
     ]
    }
   ],
   "source": [
    "C = float(input(\"Enter a number: \"))\n",
    "F = (C * 9 / 5) + 32\n",
    "print (C,\" C = \", F, \" F\")"
   ]
  },
  {
   "cell_type": "markdown",
   "metadata": {},
   "source": [
    "3. Write a program that can determine the distance between two points given the coordinates using the\n",
    "formula: d = sqrt((x2 - x1)^2 + (y2 - y1)^2)"
   ]
  },
  {
   "cell_type": "code",
   "execution_count": 8,
   "metadata": {},
   "outputs": [
    {
     "name": "stdout",
     "output_type": "stream",
     "text": [
      "Distance:  61.35144660071187\n"
     ]
    }
   ],
   "source": [
    "import math\n",
    "x1,x2,y1,y2 = 33,53,81,23\n",
    "d = math.sqrt(((x2 - x1)**2) + ((y2 - y1)**2))\n",
    "print (\"Distance: \", d)"
   ]
  },
  {
   "cell_type": "markdown",
   "metadata": {},
   "source": [
    "Questions:"
   ]
  },
  {
   "cell_type": "markdown",
   "metadata": {},
   "source": [
    "1. Give one major difference in syntax that Python has with other languages such as C?"
   ]
  },
  {
   "cell_type": "markdown",
   "metadata": {},
   "source": []
  },
  {
   "cell_type": "markdown",
   "metadata": {},
   "source": [
    "2. How does variable assignment differ in Python compared with other languages such as C?"
   ]
  },
  {
   "cell_type": "markdown",
   "metadata": {},
   "source": []
  },
  {
   "cell_type": "markdown",
   "metadata": {},
   "source": [
    "3. Try assigning variable names that start with numbers, and special characters. Is the assigning of\n",
    "variables that start with numbers accepted by Python? For Special Characters? Is there an exception for\n",
    "variables special characters?"
   ]
  },
  {
   "cell_type": "markdown",
   "metadata": {},
   "source": []
  },
  {
   "cell_type": "markdown",
   "metadata": {},
   "source": [
    "4. Do the assignment operators (+, -, *, /, %, **) work for all data types? Why or Why not?"
   ]
  },
  {
   "cell_type": "markdown",
   "metadata": {},
   "source": [
    "It does not, all of the operators can be used for float and int data types but for data types like tuple, list, and etc., there may be a different command because the other operators does not support in working with those data types."
   ]
  },
  {
   "cell_type": "markdown",
   "metadata": {},
   "source": [
    "5. How does the * operator differ from the ** operator?"
   ]
  },
  {
   "cell_type": "markdown",
   "metadata": {},
   "source": [
    "The operator * is used as an operator for multiplication while the operator ** is for raising the number or variable to an exponent."
   ]
  },
  {
   "cell_type": "markdown",
   "metadata": {},
   "source": [
    "Conclusion:"
   ]
  },
  {
   "cell_type": "markdown",
   "metadata": {},
   "source": []
  }
 ],
 "metadata": {
  "kernelspec": {
   "display_name": "Python 3",
   "language": "python",
   "name": "python3"
  },
  "language_info": {
   "codemirror_mode": {
    "name": "ipython",
    "version": 3
   },
   "file_extension": ".py",
   "mimetype": "text/x-python",
   "name": "python",
   "nbconvert_exporter": "python",
   "pygments_lexer": "ipython3",
   "version": "3.7.3"
  }
 },
 "nbformat": 4,
 "nbformat_minor": 2
}
