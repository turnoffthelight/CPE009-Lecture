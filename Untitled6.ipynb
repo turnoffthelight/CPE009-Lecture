{
 "cells": [
  {
   "cell_type": "markdown",
   "metadata": {},
   "source": [
    "# SUPPLEMENTARY ACTIVITY:"
   ]
  },
  {
   "cell_type": "markdown",
   "metadata": {},
   "source": [
    "1. Write a program that would construct a table of values (first 10 values from the origin) using a for loop and range() function for the following Mathematical functions:"
   ]
  },
  {
   "cell_type": "markdown",
   "metadata": {},
   "source": [
    "a. Parabola: y = x^2"
   ]
  },
  {
   "cell_type": "code",
   "execution_count": 10,
   "metadata": {},
   "outputs": [
    {
     "name": "stdout",
     "output_type": "stream",
     "text": [
      "x || y\n",
      "0 || 0\n",
      "1 || 1\n",
      "2 || 4\n",
      "3 || 9\n",
      "4 || 16\n",
      "5 || 25\n",
      "6 || 36\n",
      "7 || 49\n",
      "8 || 64\n",
      "9 || 81\n"
     ]
    }
   ],
   "source": [
    "print (\"x || y\")\n",
    "for x in range (0,10):\n",
    "    y = x**2\n",
    "    print (x,\"||\",y)"
   ]
  },
  {
   "cell_type": "markdown",
   "metadata": {},
   "source": [
    "b. Square root function: y = sqrt(x)"
   ]
  },
  {
   "cell_type": "code",
   "execution_count": 11,
   "metadata": {},
   "outputs": [
    {
     "name": "stdout",
     "output_type": "stream",
     "text": [
      "x || y\n",
      "0 || 0.0\n",
      "1 || 1.0\n",
      "2 || 1.4142135623730951\n",
      "3 || 1.7320508075688772\n",
      "4 || 2.0\n",
      "5 || 2.23606797749979\n",
      "6 || 2.449489742783178\n",
      "7 || 2.6457513110645907\n",
      "8 || 2.8284271247461903\n",
      "9 || 3.0\n"
     ]
    }
   ],
   "source": [
    "print (\"x || y\")\n",
    "for x in range (0,10):\n",
    "    y = x**(1/2)\n",
    "    print (x,\"||\",y)"
   ]
  },
  {
   "cell_type": "markdown",
   "metadata": {},
   "source": [
    "c. Absolute - value function: y = |x|"
   ]
  },
  {
   "cell_type": "code",
   "execution_count": 12,
   "metadata": {},
   "outputs": [
    {
     "name": "stdout",
     "output_type": "stream",
     "text": [
      "x || y\n",
      "-5 || 25\n",
      "-4 || 16\n",
      "-3 || 9\n",
      "-2 || 4\n",
      "-1 || 1\n",
      "0 || 0\n",
      "1 || 1\n",
      "2 || 4\n",
      "3 || 9\n",
      "4 || 16\n",
      "5 || 25\n"
     ]
    }
   ],
   "source": [
    "print (\"x || y\")\n",
    "for x in range (-5,6):\n",
    "    y = x**2\n",
    "    print (x,\"||\",y)"
   ]
  },
  {
   "cell_type": "markdown",
   "metadata": {},
   "source": [
    "2. Write a program that determines the mean or average value of a given set of numbers. Hint: Do not use any function that was not discussed or given in the laboratory activity."
   ]
  },
  {
   "cell_type": "code",
   "execution_count": 4,
   "metadata": {},
   "outputs": [
    {
     "name": "stdout",
     "output_type": "stream",
     "text": [
      "Input 10 numbers: \n",
      "Input a number: 100\n",
      "Input a number: 97\n",
      "Input a number: 97\n",
      "Input a number: 6\n",
      "Input a number: 69\n",
      "Input a number: 45\n",
      "Input a number: 96\n",
      "Input a number: 98\n",
      "Input a number: 68\n",
      "Input a number: 38\n",
      "The mean is  714\n",
      "The average is  71.4\n"
     ]
    }
   ],
   "source": [
    "mean,average = 0, 0\n",
    "print (\"Input 10 numbers: \")\n",
    "for x in range (0,10):\n",
    "    number = int(input(\"Input a number: \"))\n",
    "    mean += number\n",
    "    average = mean / 10\n",
    "print (\"The mean is \",mean)\n",
    "print (\"The average is \",average)"
   ]
  },
  {
   "cell_type": "code",
   "execution_count": null,
   "metadata": {},
   "outputs": [],
   "source": []
  }
 ],
 "metadata": {
  "kernelspec": {
   "display_name": "Python 3",
   "language": "python",
   "name": "python3"
  }
 },
 "nbformat": 4,
 "nbformat_minor": 2
}
